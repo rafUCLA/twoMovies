{
 "cells": [
  {
   "cell_type": "code",
   "execution_count": 4,
   "metadata": {},
   "outputs": [],
   "source": [
    "#! /usr/bin/env python3\n",
    "\n",
    "#from tinydb import TinyDB, Query\n",
    "import json\n",
    "import webhoseio\n",
    "import sqlite3"
   ]
  },
  {
   "cell_type": "markdown",
   "metadata": {},
   "source": [
    "Creates database - only to be run once"
   ]
  },
  {
   "cell_type": "code",
   "execution_count": 39,
   "metadata": {},
   "outputs": [],
   "source": [
    "\n",
    "db = sqlite3.connect('mydb2')\n",
    "c = db.cursor()\n",
    "c.execute('''CREATE TABLE articles_all (date text, URL text, title text, body text)''')\n",
    "db.commit()\n"
   ]
  },
  {
   "cell_type": "code",
   "execution_count": 41,
   "metadata": {},
   "outputs": [
    {
     "name": "stdout",
     "output_type": "stream",
     "text": [
      "None\n"
     ]
    }
   ],
   "source": [
    "db = sqlite3.connect('mydb2')\n",
    "c = db.cursor()\n",
    "c.execute('SELECT * FROM articles_all')\n",
    "print (c.fetchone())\n",
    "c.close()"
   ]
  },
  {
   "cell_type": "code",
   "execution_count": 5,
   "metadata": {
    "collapsed": true
   },
   "outputs": [],
   "source": [
    "#connect to webhoseio and print two articles"
   ]
  },
  {
   "cell_type": "code",
   "execution_count": 57,
   "metadata": {},
   "outputs": [
    {
     "name": "stdout",
     "output_type": "stream",
     "text": [
      "rows added:0\n",
      "rows added:1\n",
      "rows added:3\n",
      "rows added:6\n",
      "rows added:10\n",
      "more results:39720\n",
      "rows added:10\n",
      "rows added:11\n",
      "rows added:13\n",
      "rows added:16\n",
      "rows added:20\n",
      "more results:39621\n",
      "rows added:20\n",
      "rows added:21\n",
      "rows added:23\n",
      "rows added:26\n",
      "rows added:30\n",
      "more results:39521\n",
      "rows added:30\n",
      "rows added:31\n",
      "rows added:33\n",
      "rows added:36\n",
      "rows added:40\n",
      "more results:39421\n"
     ]
    }
   ],
   "source": [
    "webhoseio.config(token='11a5bf53-12f6-440d-a84f-e42c18c7c38d')\n",
    "output = webhoseio.query(\"filterWebContent\", \n",
    "\t{\"q\": \"donald trump language:english is_first:true thread.country:US\",\n",
    "\t\"sort\": \"relevancy\"})\n",
    "db = sqlite3.connect('mydb2')\n",
    "c = db.cursor()\n",
    "counter = 0\n",
    "\n",
    "for i in range(0,4): #needs to be replaced by while output['moreResultsAvailable']>0: to run the whole history\n",
    "    for i in range(0,len(output)):\n",
    "        date = output['posts'][i]['published']\n",
    "        url = output['posts'][i]['url']\n",
    "        title = output['posts'][i]['title']\n",
    "        text = output['posts'][i]['text']\n",
    "        params = (date,url,title,text)\n",
    "        c.execute(\"INSERT INTO articles_all VALUES (?,?,?,?)\", params)\n",
    "        \n",
    "        counter=counter+i\n",
    "        print (\"rows added:\" + str(counter))\n",
    "    output = webhoseio.get_next()\n",
    "    print (\"more results:\" + str(output['moreResultsAvailable']))\n",
    "db.commit()\n",
    "\n",
    "\n"
   ]
  },
  {
   "cell_type": "code",
   "execution_count": 29,
   "metadata": {},
   "outputs": [
    {
     "name": "stdout",
     "output_type": "stream",
     "text": [
      "39982\n"
     ]
    }
   ],
   "source": [
    "print(output['moreResultsAvailable'])"
   ]
  },
  {
   "cell_type": "code",
   "execution_count": 60,
   "metadata": {},
   "outputs": [
    {
     "name": "stdout",
     "output_type": "stream",
     "text": [
      "('2018-01-11T13:00:00.000+02:00', 'http://omgili.com/ri/.wHSUbtEfZR12YKHzHc9uTcNpIrEc8ej61SvcDRgHblAzeyAUr2bUu1ILUd3fG1jo7OSAsaFG2yyzffFHCoh2mXaRPJXtinuO11L3nyOpmM8G7iY0O8NkO11t8SPgn40', 'The Voters Abandoning Donald Trump', \"A massive new source of public-opinion research offers fresh insights into the fault lines emerging in Donald Trump’s foundation of support.\\nPreviously unpublished results from the nonpartisan online-polling firm SurveyMonkey show Trump losing ground over his tumultuous first year not only with the younger voters and white-collar whites who have always been skeptical of him, but also with the blue-collar whites central to his coalition.\\nTrump retains important pillars of support. Given that he started in such a strong position with those blue-collar whites, even after that decline he still holds a formidable level of loyalty among them—particularly men and those over 50 years old. What’s more, he has established a modest but durable beachhead among African American and Hispanic men, even while confronting overwhelming opposition from women in those demographic groups.\\nRelated Story 'We Are in a Trump-Driven Worst-Case Situation Right Now' \\nTogether, the results crystallize the bet Trump is making for his own reelection in 2020, and for his party’s chances in November’s election: that he can mobilize enough support among older and blue-collar (as well as rural and evangelical) whites to offset the intense resistance he’s provoked from groups that are all growing in the electorate: Millennials, minorities, and college-educated whites—particularly the women among them.\\nThese findings emerge from a cumulative analysis of 605,172 interviews SurveyMonkey conducted with Americans in 2017 about Trump’s job performance. At my request, Mark Blumenthal, SurveyMonkey’s head of election polling, calculated Trump’s average approval rating over the last year among groups of voters segmented simultaneously by their race, gender, education level, and age. That extra level of detail, not available in conventional polls because their samples are too small, offers a more precise picture of Trump’s coalition.\")\n",
      "('2018-01-11T19:18:00.000+02:00', 'http://omgili.com/ri/.wHSUbtEfZQCR4GWh90giXQcOEADWgFJtFG_UlX.Z2sa1aSxZXQzERfVXBE_7iXFDBrVDBfsc26S552IS9hnh.Xuvjk9DJX9cjTEYiLswec3zZBL3cjSEGJFSV.MjzwtipiAbCUwVLo-', 'Donald J. Trump State Park in New York State', 'YORKTOWN, N.Y. — Donald J. Trump State Park is dilapidated and forgotten. No running path, no picnic table, no basketball hoop, no hiking trail, no ball field. It’s 436 acres of neglected land, overrun by weeds and brush. Most of the buildings that once stood on it have been demolished, and the few that remain are in utter disrepair: broken windows, rusted metal, corroded walls, missing or boarded-up doors and caved-in roofs. That’s what became of the gift Donald Trump once gave to New York State.\\nYahoo News sent several recent pictures of the park to Eric F. Trump, the president’s son and executive vice president of the Trump Organization, to see what he thinks of its current state. He responded that the state has failed to maintain the property and that he’s disappointed by what he saw in the photographs.\\n“It is very disappointing to see the recent pictures of the Donald J. Trump State Park. My father donated this incredible land to the State of New York so that a park could be created for the enjoyment of all New York State’s citizens,” Eric F. Trump told Yahoo News. “Despite the fact that the terms of his gift specifically required the State to maintain the Park, the State has done a poor job running and sustaining the property. While we are looking into various remedies, it is my sincere hope that going forward, the State will exercise greater responsibility and restore the land into the magnificent park it was, and should continue to be.”\\nIn the ’90s, then businessman Trump purchased a large swath of open meadows and thick woods 45 miles north of midtown Manhattan for a reported two million dollars, with plans to build a private golf course. But Trump couldn’t get approval from the towns of Putnam Valley or Yorktown and wound up donating the land to New York State in 2006. He claimed to the media that this land was worth $100 million (though this was likely his characteristic hyperbole), and received a substantial tax write-off.\\nOn April 19, 2006, then Gov. George E. Pataki announced Trump’s “generous and meaningful gift” would become New York’s 174th state park. He said the park would protect open space, increase public access to scenic landscapes and provide recreational opportunities in the city’s far-northern suburbs.\\n“On behalf of the people of the Empire State, I express our gratitude to Donald Trump for his vision and commitment to preserve the natural resource of this property for the benefit of future generations,” Pataki said at the time.\\nA dilapidated building with a busted roof and rusted window frames is engulfed in dead trees and thorns in the French Hill Section of Donald J. Trump State Park in Yorktown, N.Y. (Photo: Michael Walsh/Yahoo News) More Trump said, “I have always loved the city and state of New York, and this is my way of trying to give something back. I hope that these 436 acres of property will turn into one of the most beautiful parks anywhere in the world.”\\nThe establishment of Donald J. Trump State Park combined two parcels of land: the 282-acre Indian Hill site, which straddles the border of Westchester and Putnam counties, and the 154-acre French Hill site in Westchester County. Pataki’s office touted the new park as an example of New York’s role as a national leader in stewarding the United States’ natural resources.\\nBut the promised recreational facilities never were built. New York stopped maintaining Donald J. Trump State Park in 2010 because of budget cuts, even though its annual operation costs were only $2,500, and it was cared for by workers at nearby Franklin D. Roosevelt Park.\\nRandy Simons, a public information officer for the New York State Office of Parks, Recreation and Historic Preservation, told Yahoo News that the park is currently open and serves “as a passive park offering hiking, birdwatching and similar outdoor recreational activities.”\\nSimons explained that the office recently removed several vacant and shabby buildings to address potential public safety and environmental hazards. This consisted of demolishing a 3,700-square-foot house, four other structures and a swimming pool. They also conducted asbestos and lead paint abatement.\\nThe Donald J. Trump State Park is divided into two sections: Indian Hill in Westchester and Putnam Counties and French Hill in Westchester County. (Photo: Michael Walsh/Yahoo News) More “Trail planning is underway for a formalized hiking trail network and mountain bike trails. The first step is a natural resources review and state environmental quality review to ensure that sensitive wetlands and plant and animal habitats are protected,” Simons said. “The ultimate timeline will be determined by this review.”\\nPutnam Valley’s town supervisor Sam Oliverio Jr. recalls hiking as a child in the area, when it was farmland. He was pleased when Trump donated the land so it would stay green, but lamented that New York State has not maintained the property. He said the state “hasn’t done a blessed thing” there and Putnam Valley, a small municipality, can’t afford to improve the park or establish hiking trails.\\n“Right now, if you were drive up Indian Hill Road to the top of the mountain, you wouldn’t even be able to get into his property because the bushes and brambles are just about impassable,” Oliverio told Yahoo News.\\nThe foliage has overtaken the roadways and paths that tractors used to travel to reach the fields when it was farmland, he said. Thorn bushes and brambles have proliferated across the hillsides and slopes since the park’s abandonment.\\n“It’s pretty sad because it could’ve been a beautiful hiking area. It still could be if somebody could come forward with some money. I wonder if Trump himself would donate something to clean up his own park,” Oliverio said, laughing. “He has tons of money. He’s saving $30 million on his new tax deal, so maybe this will inspire him.”\\nThe entrance to Donald J. Trump State Park’s Indian Hill Section is on the border of Yorktown and Putnam Valley, New York. (Photo: Michael Walsh/Yahoo News) More (The exact effect of the tax law on Trump’s personal finances is not publicly known. Before it passed, Trump claimed it would actually cost him money, but most financial experts doubt that.)\\nOliverio thinks the property’s current condition is preferable to it being a Trump country club. It includes wetlands and swampy area, and because there are no municipal sewers at the top of the mountain, development would require septic tanks. Locals worried that these would eventually leach into the wetlands and contaminate their drinking water.\\n“Now it’s just a piece of property that’s overgrown,” Oliverio said.\\nHow much Trump benefited from donating the land is difficult to determine. Bridget J. Crawford, a professor at Pace University School of Law in nearby White Plains, N.Y., and a member at the American Law Institute, said it’s quite common for wealthy people to donate real property to a state or a local government for a park. The Rockefeller family, for instance, donated the Rockefeller State Park Preserve in Sleepy Hollow, N.Y., little by little starting in 1983.“\\n“There’s nothing unusual about the donation,” Crawford told Yahoo News. “The problem of course here is that the donation of land was made but there was no additional cash gift made in order to maintain or create the park. It seems the state and municipalities don’t have the money to do that. If these sort of deals ‘fail,’ it’s always because of lack ')\n",
      "('2018-01-11T21:20:00.000+02:00', 'http://omgili.com/ri/3_Ka6nIrU.W8xJzY3Mmel9jRUIuxOgWmO5bdKSHOAyj9CA8sfxVkmaZ0uZlq1OkzxpIQRF6Cfhnyb5aujc66QTRbZa011p0Uw7M1JKp3OGfYXwSCHQSNDw--', 'President Donald Trump speaks during a cabinet meeting at t', 'President Donald Trump speaks during a cabinet meeting at the White House, Wednesday, Jan. 10, 2018, in Washington. Photo: Evan Vucci/AP Yesterday, President Donald Trump announced a delivery of F-52 fighter jets to Norway as a gesture to bolster defense in Northern Europe. There’s only one problem: the F-52 is a fictional plane from Call of Duty: Advanced Warfare .\\nPresident Trump made the announcement on Wednesday during a conference with Norwegian Prime Minister Erna Solberg, claiming that the United States started delivering the fictional aircraft, along with the very real Lockheed Martin F-35 Lightning II, to Norway last November.\\n“In November we started delivering the first F-52s and F-35 fighter jets,” Trump said. “We have a total of 52 and they’ve delivered a number of them already a little ahead of schedule.”\\nThe use of the F-52 designation can most likely be attributed to a verbal slip, not a late-night gaming habit, as the president read from a prepared statement. Players control an F-52, which does not exist in real life, during the “Throttle” mission of Advanced Warfare ’s single-player campaign. The mission tasks players with attacking villain Jonathan Irons’ rogue PMC forces in “New Baghdad.” Ironically, Jonathan Irons is played by the now-disgraced actor Kevin Spacey, best known for playing House of Cards ’ Frank Underwood, a fictional president who does play Call of Duty .\\nAdvertisement\\nWhen contacted by the Washington Post, White House Press Secretary Sarah Huckabee Sanders did not return comment on the matter or confirm whether Trump is secretly the world’s most powerful Call of Duty fan.')\n",
      "('2018-01-10T02:00:00.000+02:00', 'http://omgili.com/ri/jHIAmI4hxg.iJPgI2z6a7W8p6l9yXKUi0zdn.UAJbE9ASShMXuWD9L_6Q7eAskc_Z9gWgVcj5FcHNN7PTlv40Al4Awu0D0zuZGIqIYjhZyGPXVrdeFOAWbpbhaN4nx0tyB6t_sot0x.sji.3UsF7CVvMx_saO2BwTUa9.Qiysjs-', \"Jake Tapper: Donald Trump just 'can't quit' Hillary Clinton - CNNPolitics\", 'Why President Trump can\\'t quit Hillary Clinton 04:29 (CNN) In a news conference on Wednesday with Norwegian Prime Minister Erna Solberg at the White House, President Donald Trump once again brought up his 2016 electoral victory against Hillary Clinton. \"Today in his press conference, President Trump kept on bringing up Hillary Clinton,\" noted CNN\\'s Jake Tapper on Wednesday. \"The election\\'s been over for more than a year. He can\\'t quit her.\" Tapper\\'s \"The Lead\" guests agreed. \"I think you\\'re right ... he can\\'t quit her,\" noted commentator Jackie Kucinich. \"She\\'s also, to your point, this perfect foil, this villain that he can just keep on, you know, pulling out and punching at.\" Symone Sanders had her own word for it. Read More \"He\\'s obsessed. Oh, my goodness, Donald Trump ... he\\'s obsessed with Hillary Clinton,\" said Sanders, who worked on Bernie Sanders\\' 2016 presidential campaign. \"I\\'m sure Secretary Clinton would love nothing more than for Donald Trump to keep her name out of his mouth, but he just can\\'t stop because he\\'s obsessed with her.\" The third member of Tapper\\'s panel, Republican strategist Josh Holmes, offered a musical metaphor to describe the President\\'s compulsion. \"When you go to a favorite band concert and you hear the new stuff and you\\'re like, \\'yeah, you know, I like that,\\' \" he began, before explaining, \"Then they break the greatest hits out ... I think this is his greatest hits.\" Never one to miss a pop culture reference, Tapper quipped \"Free Bird,\" a reference to Lynyrd Skynyrd\\'s iconic 1973 power ballad. Laughing but nodding, Holmes concurred. \"It\\'s Donald Trump\\'s \\'Free Bird,\\' absolutely. His supporters love the comparison to Hillary Clinton,\" he said. \"So he brings it up. For him, it\\'s his best stuff.\" ')\n",
      "('2018-01-11T21:20:00.000+02:00', 'http://omgili.com/ri/.wHSUbtEfZSEghKuO85uJs_3bmwIXyHOuKUgLztNvGhmjR7WYv0Tkj12nIj._3.jL35Esnkg.KWyBULm6K3CIC5HDECLXkF3315Dr6qFFYRSJCFgqKR_.w--', 'Yesterday, President Donald Trump announced a delivery of F', 'By Heather Alexandra on at \\nYesterday, President Donald Trump announced a delivery of F-52 fighter jets to Norway as a gesture to bolster defence in Northern Europe. There’s only one problem: the F-52 is a fictional plane from Call of Duty: Advanced Warfare . \\nPresident Trump made the announcement on Wednesday during a conference with Norwegian Prime Minister Erna Solberg, claiming that the United States started delivering the fictional aircraft, along with the very real Lockheed Martin F-35 Lightning II, to Norway last November. \\n“In November we started delivering the first F-52s and F-35 fighter jets,” Trump said. “We have a total of 52 and they’ve delivered a number of them already a little ahead of schedule.” \\nThe use of the F-52 designation can most likely be attributed to a verbal slip, not a late-night gaming habit, as the president read from a prepared statement. Players control an F-52, which does not exist in real life, during the “Throttle” mission of Advanced Warfare ’s single-player campaign. The mission tasks players with attacking villain Jonathan Irons’ rogue PMC forces in “New Baghdad.” Ironically, Jonathan Irons is played by the now-disgraced actor Kevin Spacey, best known for playing House of Cards ’ Frank Underwood, a fictional president who does play Call of Duty . \\nWhen contacted by the Washington Post, White House Press Secretary Sarah Huckabee Sanders did not return comment on the matter or confirm whether Trump is secretly the world’s most powerful Call of Duty fan. Tags: ')\n",
      "('2018-01-11T04:07:00.000+02:00', 'http://omgili.com/ri/jHIAmI4hxg9QCjJMm01ny0X60oVaSx3xdvMof_1Tkzs44pNi7gWBjj9xXrUr6KMiav7iHuzZsMdrCmXiT.7KJdYSszPxUeMGIm2D5pnGPQrvbs5bw9E12gpRr0vLpGKpWK.DPg6so3RHeeN0SY0ohA--', 'Ann Coulter Slams Trump’s Immigration Stunt And Calls The President ‘Senile’', \"By Sean Colarossi on Wed, Jan 10th, 2018 at 9:07 pm Not only did Trump's immigration stunt fail to change the subject from Michael Wolff's book, but he has alienated at least one of his most passionate supporters in the process. Share on Twitter Print This Post \\nTop Donald Trump supporter Ann Coulter blasted Donald Trump on Wednesday, saying his recent immigration meeting with Democrats and Republicans only raises more questions about his mental stability and intellect. \\nIn a post on her website , Coulter slammed the president, saying it was if he had “no clue” what anybody was saying during the meeting and he appeared “senile.” \\nMore from Coulter’s seething post: \\nIn order to prove he doesn’t have dementia, as alleged in a recent book, President Trump called a meeting with congressional leaders on Tuesday — and requested that it be televised. \\n\\nIvanka: Show them at your best, Daddy! \\n\\nHe then proceeded to completely sell out the base and actually added to his problems by appearing senile. \\n\\nIn a half-dozen exchanges — which, again, he wanted televised — Trump responded to remarks as if he had no clue what the person was saying. One senator would talk — he’d agree. Someone else would say the exact opposite — he’d agree with that, too. \\n\\n… \\n\\nTrump was more than willing to sell out the base to solve a personal problem of his — the Michael Wolff book — but managed to not convince a single American that he’s articulate, bright or a good leader. \\nWhile Trump was hoping to push talk of Michael Wolff’s new book under the rug by holding a staged meeting on immigration, he only raised more questions about his fitness to be president. \\nDuring his publicity stunt, he didn’t just prove he’s a weak negotiator by agreeing with whoever spoke last, but it appeared he didn’t even understand what those around him were saying. His remarks were nothing but fragmented sentences filled with buzzwords like “DACA” and “comprehensive.” \\nNot only did Trump’s immigration stunt fail to change the subject from Michael Wolff’s book, but he has alienated at least one of his most passionate supporters in the process.\")\n",
      "('2018-01-12T19:03:00.000+02:00', 'http://omgili.com/ri/DyQaNGXlfMpJ_AJul8iHvVDoTtXPOb2NNQaNO3j9ZhNDmqu4cYj0tvK2Bw22rCeTUMkKdTlA1EwtzcL0wuyd.3.Xt1fUBodP6JT1f5l89Qw-', 'Stephen Colbert Points Out the One Thing ‘Shithole Countries’ Have Going for Them That the U.S. Doesn’t', 'By Cady Lang January 12, 2018 \\nStephen Colbert defended the countries in the amid reports that Donald Trump recently referred to as “shithole countries” taking the opportunity to point out what he views as one very large advantage that they all have in common over the U.S. \\nThe President made headlines after the Washington Post reported that he had met with lawmakers to discuss immigration policy, where many advocated for lifting restrictions for immigration from Haiti, El Salvador, and several African countries. While Trump has denied that he used the vulgar language, during a White House meeting he reportedly said “Why are we having all these people from sh-thole countries come here?” and then to suggest that the U.S. should have more immigrants from “countries like Norway.” \\nColbert wasted no time on his response, calling Trump “unstable and reactionary” and joking that Trump had a preference for “blonde people who need lots of sunscreen.” However, Colbert’s most scathing bon mot regarding Trump’s comment came when he pointed out that these countries definitely had something going for them that the U.S. doesn’t. \\n“Sir, they are not sh-t-hole countries,” Colbert said. “For one, Donald Trump is not their president.” \\nWatch the full clip below.')\n",
      "('2018-01-12T00:10:00.000+02:00', 'http://omgili.com/ri/DyQaNGXlfMp4wZFB7SqziVu1ql5t8Wg7do.JOjV5cW60CUkNJDKVzuKjGNDgDveIDiXVq5mLTZ002GFBi9UNacqZ4JJJuIegcx9tB7Celk.jXcnoN.QAaJSeo.r.QayYHjNfe7K.PEgmNE_J.rZgkw--', \"Report: Trump Referred To Haiti, African Nations As 'Sh*thole Countries'\", 'President Donald Trump on Thursday asked lawmakers why the United States allows people to immigrate “from shithole countries” like Haiti and African countries, the Washington Post reported .\\nThe Washington Post reported , citing two unnamed sources briefed on Trump’s meeting with lawmakers, that Trump asked, “Why are we having all these people from shithole countries come here?”\\nRead More → ')\n",
      "('2018-01-12T22:57:00.000+02:00', 'http://omgili.com/ri/.wHSUbtEfZQdcZqXB9aEOkEsPRS572cziD79IQ4p8xyyOug0XJXcKK.44O_K954WMrPydTY4hzrAbtXjQxKGDHfRSHhAg4ESw5T_boIZoKRqKffJ.pS0GYxfEQDeOZa_gQ8XLrTBuNCfR6J.FDfGwgaluP7CON.jZj5VE.XFiMNo1zMDipfjEA--', 'Trump appears to deny making ‘s**thole’ remark about Haiti, other nations — but Durbin says he did', 'President Donald Trump on Friday morning apparently denied reports that he used the term “ s**thole ” to describe Haiti, El Salvador and African nations in a White House meeting the previous day — but Democratic Sen. Dick Durbin (Ill.) said he was in the room with Trump and that the reports are accurate.\\nThe language used by me at the DACA meeting was tough, but this was not the language used. What was really tough was the outlandish proposal made – a big setback for DACA!\\n— Donald J. Trump (@realDonaldTrump) January 12, 2018 \\n\\n“The language used by me at the DACA meeting was tough, but this was not the language used,” Trump tweeted Friday. “What was really tough was the outlandish proposal made – a big setback for DACA!”\\nThe Washington Post reported that Trump used the term “s**thole” in an Oval Office meeting Thursday in regard to people from Haiti, El Salvador and African nations and a bipartisan immigration deal.\\n“Why are we having all these people from s**thole countries come here?” Trump asked, the Washington Post reported, citing “several people briefed on the meeting.”\\nTrump didn’t address the reported expletive in his denial.\\nDurbin went on the record Friday saying he heard Trump “repeatedly” make “hate-filled, vile and racist” comments to lawmakers during the meeting, the Huffington Post reported .\\n“I cannot believe that in the history of the White House, in that Oval Office, any president has ever spoken the words that I personally heard our president speak yesterday,” Durbin added to the Huffington Post. “You’ve seen the comments in the press. I’ve not read one of them that’s inaccurate.”\\nTrump also reportedly noted that immigrants from Haiti must be left out of any deal: “Why do we need more Haitians? Take them out,” the president said, the Washington Post reported, citing “people familiar with the meeting.”\\nBut Trump on Friday morning specifically denied disparaging Haitians and denied saying “take them out.”\\nNever said anything derogatory about Haitians other than Haiti is, obviously, a very poor and troubled country. Never said “take them out.” Made up by Dems. I have a wonderful relationship with Haitians. Probably should record future meetings – unfortunately, no trust!\\n— Donald J. Trump (@realDonaldTrump) January 12, 2018 \\n\\n“Never said anything derogatory about Haitians other than Haiti is, obviously, a very poor and troubled country,” Trump tweeted. “Never said ‘take them out.’ Made up by Dems. I have a wonderful relationship with Haitians. Probably should record future meetings – unfortunately, no trust!”\\nAccording to the Washington Post, Trump also remarked that the U.S. should bring in people from countries like Norway. Trump also said he’s open to more immigrants from Asian nations due to his belief that they could help bolster the U.S. economy, the paper added, citing a White House official.\\nThe White House declined to comment on the Washington Post story but released a statement from principal deputy White House press secretary Raj Shah.\\n“Certain Washington politicians choose to fight for foreign countries, but President Trump will always fight for the American people,” the statement read.\\n“The president will only accept an immigration deal that adequately addresses the visa lottery system and chain migration — two programs that hurt our economy and allow terrorists into our country,” the statement continued. “Like other nations that have merit-based immigration, President Trump is fighting for permanent solutions that make our country stronger by welcoming those who can contribute to our society, grow our economy, and assimilate into our great nation.”\\n“He will always reject temporary, weak, and dangerous stopgap measures that threaten the lives of hardworking Americans, and undercut immigrants who seek a better life in the United States through a legal pathway,” the statement concluded.\\nTrump posted related tweets Friday morning:\\nThe so-called bipartisan DACA deal presented yesterday to myself and a group of Republican Senators and Congressmen was a big step backwards. Wall was not properly funded, Chain & Lottery were made worse and USA would be forced to take large numbers of people from high crime…..\\n— Donald J. Trump (@realDonaldTrump) January 12, 2018 \\n\\n….countries which are doing badly. I want a merit based system of immigration and people who will help take our country to the next level. I want safety and security for our people. I want to stop the massive inflow of drugs. I want to fund our military, not do a Dem defund….\\n— Donald J. Trump (@realDonaldTrump) January 12, 2018 \\n\\n….Because of the Democrats not being interested in life and safety, DACA has now taken a big step backwards. The Dems will threaten “shutdown,” but what they are really doing is shutting down our military, at a time we need it most. Get smart, MAKE AMERICA GREAT AGAIN!\\n— Donald J. Trump (@realDonaldTrump) January 12, 2018 \\n\\nThe Trump administration announced Monday that approximately 200,000 Salvadoran immigrants have until Sept. 9, 2019, to leave the country, find a legal way to remain in the U.S. or face deportation.')\n",
      "('2018-01-11T19:54:00.000+02:00', 'http://omgili.com/ri/.wHSUbtEfZQwU97HLU2a07uKU_WMx1OgSs41MzF1mUjcRf1PrWljGjMSBDeUtAnO9Xklvyfki9VghI6RYO4KRKG5gFjzH_KQP37WV_1_A4g9NOn1eXlZ4H3rfjHBtIFmqvB0kJFVpIgY_DN60pSqmwRDuTB23VQ45XyK3mf.CaVxvLFupL4go4WbPzS8Ux4qbwdwrFdg26SKX5LT5hD8imrAU691Lw0.hj4I.Ljm3TMl6JV8LhJFNg--', 'Bannon hires lawyer as he prepares for Russia-related congressional testimony', \"Former White House strategist Stephen K. Bannon has hired prominent Washington attorney William Burck to represent him as he prepares to testify to the House Intelligence Committee about his role in Donald Trump’s presidential campaign, according to a person familiar with the arrangement.\\nBannon had previously insisted that he did not need a lawyer because he had not been drawn into the multiple investigations into whether Trump’s team coordinated with Russia during the 2016 campaign. But in recent weeks, the House intelligence panel made a request that Bannon testify before the committee.\\nBannon’s hiring of Burck was first reported by the Daily Beast. \\nBurck, co-managing partner at the firm Quinn Emanuel, is also representing other key members of Trump’s campaign and White House staff, including former chief of staff Reince Priebus and White House Counsel Donald McGahn.\\nThe person familiar with the arrangement said Burck’s representation is limited to congressional testimony and does not include preparing Bannon to speak to special counsel Robert S. Mueller III. It also covers only Bannon’s role on Trump’s campaign, as opposed to events that occurred during the presidential transition or while Bannon served as a top aide to Trump in the White House.\\nStephen K. Bannon used to be a member of President Trump's inner circle, but now he's been ousted from Breitbart News after critical comments in a new book. (Jenny Starrs/The Washington Post) Earlier this week, Bannon was forced to leave his role as executive chairman of Breitbart News, the conservative outlet whose platform propelled him to national prominence, in the wake of anger from the White House about comments he made in a new book by journalist Michael Wolff, “ Fire and Fury .”\\nIn the book, Bannon said it was “treasonous” of Trump’s son Donald Trump Jr. to accept a meeting with a Russian lawyer in June 2016 who he thought would provide damaging information about Democratic candidate Hillary Clinton as part of a Russian government effort to help his father’s campaign.\\nAfter the book’s publication, Bannon expressed regret about his statements, saying his criticism was aimed at Paul Manafort, Trump’s former campaign chairman who also attended the meeting. He called Trump Jr. a “patriot.”\")\n"
     ]
    }
   ],
   "source": [
    "db = sqlite3.connect('mydb2')\n",
    "c = db.cursor()\n",
    "c.execute('SELECT * FROM articles_all')\n",
    "for i in range(0,10): print (c.fetchone())\n",
    "c.close()"
   ]
  },
  {
   "cell_type": "code",
   "execution_count": null,
   "metadata": {
    "collapsed": true
   },
   "outputs": [],
   "source": []
  }
 ],
 "metadata": {
  "kernelspec": {
   "display_name": "Python 3",
   "language": "python",
   "name": "python3"
  },
  "language_info": {
   "codemirror_mode": {
    "name": "ipython",
    "version": 3
   },
   "file_extension": ".py",
   "mimetype": "text/x-python",
   "name": "python",
   "nbconvert_exporter": "python",
   "pygments_lexer": "ipython3",
   "version": "3.6.3"
  }
 },
 "nbformat": 4,
 "nbformat_minor": 2
}
