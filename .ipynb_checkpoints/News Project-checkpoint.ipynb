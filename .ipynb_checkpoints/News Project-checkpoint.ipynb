{
 "cells": [
  {
   "cell_type": "code",
   "execution_count": 7,
   "metadata": {},
   "outputs": [],
   "source": [
    "#! /usr/bin/env python3\n",
    "\n",
    "#from tinydb import TinyDB, Query\n",
    "import json\n",
    "#import webhoseio\n"
   ]
  },
  {
   "cell_type": "code",
   "execution_count": 8,
   "metadata": {
    "collapsed": true
   },
   "outputs": [],
   "source": [
    "#connect to webhoseio and print two articles"
   ]
  },
  {
   "cell_type": "code",
   "execution_count": 9,
   "metadata": {},
   "outputs": [
    {
     "ename": "SyntaxError",
     "evalue": "Missing parentheses in call to 'print' (<ipython-input-9-80d57728415e>, line 7)",
     "output_type": "error",
     "traceback": [
      "\u001b[0;36m  File \u001b[0;32m\"<ipython-input-9-80d57728415e>\"\u001b[0;36m, line \u001b[0;32m7\u001b[0m\n\u001b[0;31m    print \"published: \" + output['posts'][0]['published'] # Print the text of the first post publication date\u001b[0m\n\u001b[0m                      ^\u001b[0m\n\u001b[0;31mSyntaxError\u001b[0m\u001b[0;31m:\u001b[0m Missing parentheses in call to 'print'\n"
     ]
    }
   ],
   "source": [
    "webhoseio.config(token='11a5bf53-12f6-440d-a84f-e42c18c7c38d')\n",
    "output = webhoseio.query(\"filterWebContent\", \n",
    "\t{\"q\": \"Global Warming\",\n",
    "\t\"sort\": \"relevancy\"})\n",
    "print (\"URL: \" + output['posts'][0]['url']) # Print the text of the first post\n",
    "print (\"title: \" + output['posts'][0]['title']) # Print the text of the first post\n",
    "print (\"published: \" + output['posts'][0]['published']) # Print the text of the first post publication date\n",
    "\n",
    "output = webhoseio.get_next()\n",
    "print (\"URL: \" + output['posts'][0]['url']) # Print the text of the first post\n",
    "print (\"title: \" + output['posts'][0]['title']) # Print the text of the first post\n",
    "print (\"published: \" + output['posts'][0]['published']) # Print the text of the first post publication date\n",
    "\n",
    "# try:\n",
    "# \tresponse = urlopen(request)\n",
    "# \tdata = response.read()\n",
    "# \tparsed_json = json.loads(data)\n",
    "# except URLError, e:\n",
    "#    print 'API call not working. Got an error code:', e\n",
    "# else:\n",
    "# \tprint parsed_json[0]"
   ]
  },
  {
   "cell_type": "code",
   "execution_count": null,
   "metadata": {
    "collapsed": true
   },
   "outputs": [],
   "source": []
  }
 ],
 "metadata": {
  "kernelspec": {
   "display_name": "Python 3",
   "language": "python",
   "name": "python3"
  },
  "language_info": {
   "codemirror_mode": {
    "name": "ipython",
    "version": 3
   },
   "file_extension": ".py",
   "mimetype": "text/x-python",
   "name": "python",
   "nbconvert_exporter": "python",
   "pygments_lexer": "ipython3",
   "version": "3.6.1"
  }
 },
 "nbformat": 4,
 "nbformat_minor": 2
}
