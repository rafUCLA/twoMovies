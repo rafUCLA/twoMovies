{
 "cells": [
  {
   "cell_type": "code",
   "execution_count": 1,
   "metadata": {},
   "outputs": [],
   "source": [
    "#! /usr/bin/env python3\n",
    "\n",
    "#from tinydb import TinyDB, Query\n",
    "import json\n",
    "import webhoseio\n"
   ]
  },
  {
   "cell_type": "code",
   "execution_count": 2,
   "metadata": {
    "collapsed": true
   },
   "outputs": [],
   "source": [
    "#connect to webhoseio and print two articles"
   ]
  },
  {
   "cell_type": "code",
   "execution_count": 3,
   "metadata": {},
   "outputs": [
    {
     "name": "stdout",
     "output_type": "stream",
     "text": [
      "URL: http://omgili.com/ri/.wHSUbtEfZQ0A6zwJJyUUKg7djAayUBqimSW2HOI8YdU6YqcMLIz8Jm5V_F3ccx85PA4d0Ow2qrv2vLJGxcojC.jg0hqmzfIbOypdxCTmYs-\n",
      "title: Al Gore Insists Global Warming Causes Global Cooling\n",
      "published: 2018-01-10T20:02:00.000+02:00\n",
      "URL: http://omgili.com/ri/jHIAmI4hxg_Lw5DuKD76qeckkybPMllvrfgfVrs8Q7CgZ1F2m7UM3Vqi5KGBZe2CcJYi90Fmv2g-\n",
      "title: Australia had third-warmest year on record in 2017 - BBC News\n",
      "published: 2018-01-10T02:00:00.000+02:00\n"
     ]
    }
   ],
   "source": [
    "webhoseio.config(token='11a5bf53-12f6-440d-a84f-e42c18c7c38d')\n",
    "output = webhoseio.query(\"filterWebContent\", \n",
    "\t{\"q\": \"Global Warming\",\n",
    "\t\"sort\": \"relevancy\"})\n",
    "print (\"URL: \" + output['posts'][0]['url']) # Print the text of the first post\n",
    "print (\"title: \" + output['posts'][0]['title']) # Print the text of the first post\n",
    "print (\"published: \" + output['posts'][0]['published']) # Print the text of the first post publication date\n",
    "\n",
    "output = webhoseio.get_next()\n",
    "print (\"URL: \" + output['posts'][0]['url']) # Print the text of the first post\n",
    "print (\"title: \" + output['posts'][0]['title']) # Print the text of the first post\n",
    "print (\"published: \" + output['posts'][0]['published']) # Print the text of the first post publication date\n",
    "\n",
    "# try:\n",
    "# \tresponse = urlopen(request)\n",
    "# \tdata = response.read()\n",
    "# \tparsed_json = json.loads(data)\n",
    "# except URLError, e:\n",
    "#    print 'API call not working. Got an error code:', e\n",
    "# else:\n",
    "# \tprint parsed_json[0]"
   ]
  },
  {
   "cell_type": "code",
   "execution_count": null,
   "metadata": {
    "collapsed": true
   },
   "outputs": [],
   "source": []
  }
 ],
 "metadata": {
  "kernelspec": {
   "display_name": "Python 3",
   "language": "python",
   "name": "python3"
  },
  "language_info": {
   "codemirror_mode": {
    "name": "ipython",
    "version": 3
   },
   "file_extension": ".py",
   "mimetype": "text/x-python",
   "name": "python",
   "nbconvert_exporter": "python",
   "pygments_lexer": "ipython3",
   "version": "3.6.3"
  }
 },
 "nbformat": 4,
 "nbformat_minor": 2
}
